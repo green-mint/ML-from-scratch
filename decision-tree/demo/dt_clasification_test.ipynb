{
 "cells": [
  {
   "cell_type": "code",
   "execution_count": 1,
   "metadata": {},
   "outputs": [],
   "source": [
    "import numpy as np\n",
    "import pandas as pd\n",
    "import matplotlib.pyplot as plt"
   ]
  },
  {
   "cell_type": "code",
   "execution_count": 2,
   "metadata": {},
   "outputs": [],
   "source": [
    "data = pd.read_csv('data_temp/titanic.csv')\n",
    "data['Label'] = data.Survived"
   ]
  },
  {
   "cell_type": "code",
   "execution_count": 3,
   "metadata": {},
   "outputs": [],
   "source": [
    "data = data.drop(['PassengerId','Survived','Ticket','Cabin','Name'],axis=1)"
   ]
  },
  {
   "cell_type": "code",
   "execution_count": 4,
   "metadata": {},
   "outputs": [],
   "source": [
    "mode_embarked = data.Embarked.mode()[0]\n",
    "age_median = data.Age.median()\n",
    "data = data.fillna({'Age':age_median,'Embarked':mode_embarked})"
   ]
  },
  {
   "cell_type": "code",
   "execution_count": 5,
   "metadata": {},
   "outputs": [
    {
     "name": "stdout",
     "output_type": "stream",
     "text": [
      "<class 'pandas.core.frame.DataFrame'>\n",
      "RangeIndex: 891 entries, 0 to 890\n",
      "Data columns (total 8 columns):\n",
      "Pclass      891 non-null int64\n",
      "Sex         891 non-null object\n",
      "Age         891 non-null float64\n",
      "SibSp       891 non-null int64\n",
      "Parch       891 non-null int64\n",
      "Fare        891 non-null float64\n",
      "Embarked    891 non-null object\n",
      "Label       891 non-null int64\n",
      "dtypes: float64(2), int64(4), object(2)\n",
      "memory usage: 55.8+ KB\n"
     ]
    }
   ],
   "source": [
    "data.info()"
   ]
  },
  {
   "cell_type": "code",
   "execution_count": 6,
   "metadata": {},
   "outputs": [],
   "source": [
    "from sklearn.model_selection import train_test_split"
   ]
  },
  {
   "cell_type": "code",
   "execution_count": 55,
   "metadata": {},
   "outputs": [],
   "source": [
    "train,test = train_test_split(data,test_size=0.2)"
   ]
  },
  {
   "cell_type": "markdown",
   "metadata": {},
   "source": [
    "### Helper Functions"
   ]
  },
  {
   "cell_type": "code",
   "execution_count": 59,
   "metadata": {},
   "outputs": [],
   "source": [
    "#Check Data purity\n",
    "def purity_check(data):\n",
    "    y = data[:,-1]\n",
    "    if len(set(y)) == 1:\n",
    "        return True\n",
    "    else:\n",
    "        return False\n",
    "\n",
    "def classify(data):\n",
    "    '''Returns the most frequent label occuring in the\n",
    "        dependent variable data'''\n",
    "    y = data[:,-1]\n",
    "    unique_labels,label_counts = np.unique(y,return_counts=True)\n",
    "    classification = unique_labels[np.argmax(label_counts)]\n",
    "    return classification\n",
    "\n",
    "def get_feature_types(df):\n",
    "    n_unique_value_threshold = 5\n",
    "    feature_types = []\n",
    "    for index in range(df.shape[1]):\n",
    "        datatype = str(df.iloc[:,index].dtype)\n",
    "        cond1_for_num = 'float' in datatype or 'int' in datatype\n",
    "        cond2_for_num = len(np.unique(df.iloc[:,index].values)) > n_unique_value_threshold\n",
    "        if cond1_for_num and cond2_for_num:\n",
    "            feature_type = 'numerical'\n",
    "        else:\n",
    "            feature_type = 'categorical'\n",
    "        feature_types.append(feature_type)\n",
    "    return feature_types\n",
    "\n",
    "def get_potential_splits(data,feature_types):\n",
    "    '''Return a dictionary of potential splits with keys \n",
    "        corresponding to columns of feature matrix and \n",
    "        values corresponding to pontial spilts in each \n",
    "        column''' \n",
    "    X = data[:,:-1] #Extracting the feature matrix\n",
    "    potential_splits = {}\n",
    "    for column_index in range(X.shape[1]):\n",
    "        unique_values = np.unique(X[:,column_index])\n",
    "        if feature_types[column_index] == 'numerical' and len(unique_values) > 1:\n",
    "            potential_splits[column_index] = []\n",
    "            for index in range(1,len(unique_values)): #Skiping the first index\n",
    "                current_value = unique_values[index]\n",
    "                previous_value = unique_values[index - 1]\n",
    "                potential_split = (current_value + previous_value) / 2  \n",
    "                potential_splits[column_index].append(potential_split)\n",
    "        elif feature_types[column_index] == 'categorical' and len(unique_values) > 1:\n",
    "            potential_splits[column_index] = list(unique_values)\n",
    "    return potential_splits\n",
    "\n",
    "def split_data(data,split_col,split_value,feature_types):\n",
    "    feature_type = feature_types[split_col]\n",
    "    \n",
    "    if feature_type == 'numerical':\n",
    "        data_left = data[data[:,split_col] <= split_value]\n",
    "        data_right = data[data[:,split_col] > split_value ]\n",
    "\n",
    "    elif feature_type == 'categorical':        \n",
    "        data_left = data[data[:,split_col] == split_value]\n",
    "        data_right = data[data[:,split_col] != split_value]\n",
    "    \n",
    "    return data_left, data_right\n",
    "\n",
    "def leaf_entropy(y):\n",
    "    _,counts = np.unique(y,return_counts=True)\n",
    "    probabilities = counts/counts.sum()\n",
    "    entropy = np.sum(probabilities*-np.log2(probabilities))\n",
    "    return entropy\n",
    "\n",
    "def split_entropy(data_left,data_right):\n",
    "    n = len(data_left) + len(data_right)\n",
    "    p_left = len(data_left)/n\n",
    "    p_right = len(data_right)/n\n",
    "    entropy = p_left*leaf_entropy(data_left[:,-1]) + p_right*leaf_entropy(data_right[:,-1])\n",
    "    return entropy\n",
    "\n",
    "def determine_best_split(data,potential_splits,feature_types):\n",
    "    entropy_best_split = 999\n",
    "    for column_index in potential_splits:\n",
    "        for value in potential_splits[column_index]:\n",
    "            data_left,data_right = split_data(data,column_index,value,feature_types)\n",
    "            entropy = split_entropy(data_left,data_right)\n",
    "            if entropy <= entropy_best_split:\n",
    "                entropy_best_split = entropy\n",
    "                best_split_col = column_index\n",
    "                best_split_value = value\n",
    "    return best_split_col,best_split_value\n",
    "\n",
    "def decision_tree_classification(data,min_samples,max_depth,column_headers,feature_types,counter):\n",
    "    potential_splits = get_potential_splits(data,feature_types)\n",
    "    #Base case, if the data is pure\n",
    "    if (purity_check(data)) or (len(data) < min_samples) or (counter == max_depth) or len(potential_splits) == 0:\n",
    "        return classify(data)                                                         # if there are no potential splits,\n",
    "                                                                                      # classify the data\n",
    "    #Recrusive Part\n",
    "    else:\n",
    "        counter += 1\n",
    "        #helper functions\n",
    "        split_col,split_val = determine_best_split(data,potential_splits,feature_types)\n",
    "        data_left, data_right = split_data(data,split_col,split_val,feature_types) #f\n",
    "        \n",
    "        col_name = column_headers[split_col]\n",
    "        feat_type = feature_types[split_col]\n",
    "        if feat_type == 'numerical':\n",
    "            question = f'{col_name} <= {split_val}'\n",
    "        else:\n",
    "            question = f'{col_name} = {split_val}'\n",
    "        subtree = {question: []}\n",
    "        yes_ans = decision_tree_classification(data_left,min_samples,max_depth,column_headers,feature_types,counter)\n",
    "        no_ans = decision_tree_classification(data_right,min_samples,max_depth,column_headers,feature_types,counter)\n",
    "        \n",
    "        if yes_ans == no_ans:\n",
    "            subtree = yes_ans\n",
    "        else:\n",
    "            subtree[question].append(yes_ans)\n",
    "            subtree[question].append(no_ans)\n",
    "\n",
    "    return subtree\n",
    "\n",
    "def single_predict(example,tree):\n",
    "    question = list(tree.keys())[0]\n",
    "    col_name,operator,value = question.split()\n",
    "    if operator == '<=':\n",
    "        if str(example[col_name]) <= value:\n",
    "            answer = tree[question][0]\n",
    "        else:\n",
    "            answer = tree[question][1]\n",
    "    else:\n",
    "         if str(example[col_name]) == value:\n",
    "            answer = tree[question][0]\n",
    "         else:\n",
    "            answer = tree[question][1]\n",
    "    if not isinstance(answer, dict):\n",
    "        return answer\n",
    "    else:\n",
    "        residual_tree = answer\n",
    "        return single_predict(example,residual_tree)"
   ]
  },
  {
   "cell_type": "code",
   "execution_count": 9,
   "metadata": {},
   "outputs": [],
   "source": [
    "class DecisionTreeClassifier():\n",
    "    def __init__(self,max_depth=None,min_samples=3):\n",
    "        self.tree = None\n",
    "        self.max_depth = max_depth\n",
    "        self.min_samples = min_samples\n",
    "        self.column_headers = None\n",
    "    \n",
    "    def train(self,X,y):\n",
    "        '''The feature matrix(X) must be a data frame, so that the column\n",
    "        headers may be extracted'''\n",
    "        column_headers = X.columns\n",
    "        feature_types = get_feature_types(X)\n",
    "        self.counter = 0\n",
    "        X = X.values\n",
    "        y = y.values.reshape(y.size,-1)\n",
    "        data = np.hstack((X,y)) #Converting the dataframes into an array\n",
    "        \n",
    "        self.tree = decision_tree_classification(data,self.min_samples,self.max_depth,column_headers,feature_types,self.counter)\n",
    "        return self.tree\n",
    "    \n",
    "    def predict(self,X):\n",
    "        predictions = []\n",
    "        for index in range(len(X)):\n",
    "            example = X.iloc[index]\n",
    "            prediction = single_predict(example,self.tree)\n",
    "            predictions.append(prediction)\n",
    "        predictions = np.array(predictions)\n",
    "        return predictions"
   ]
  },
  {
   "cell_type": "code",
   "execution_count": 44,
   "metadata": {},
   "outputs": [],
   "source": [
    "clf = DecisionTreeClassifier(max_depth=10,min_samples=2)"
   ]
  },
  {
   "cell_type": "code",
   "execution_count": 60,
   "metadata": {},
   "outputs": [
    {
     "name": "stdout",
     "output_type": "stream",
     "text": [
      "{'Sex = male': [{'Fare <= 26.26875': [{'Age <= 13.5': [{'SibSp <= 2.0': [{'Parch <= 0.5': [{'Fare <= 15.014600000000002': [1,\n",
      "                                                                                                                           0]},\n",
      "                                                                                           1]},\n",
      "                                                                         0]},\n",
      "                                                       {'Embarked = C': [{'Fare <= 15.1479': [{'Age <= 29.5': [{'Age <= 28.75': [{'Age <= 22.5': [{'Parch <= 0.5': [{'Fare <= 5.61875': [0,\n",
      "                                                                                                                                                                                         1]},\n",
      "                                                                                                                                                                    0]},\n",
      "                                                                                                                                                  {'Pclass = 3': [0,\n",
      "                                                                                                                                                                  {'Fare <= 14.45415': [1,\n",
      "                                                                                                                                                                                        0]}]}]},\n",
      "                                                                                                                                 1]},\n",
      "                                                                                                               0]},\n",
      "                                                                                              {'Fare <= 20.23335': [1,\n",
      "                                                                                                                    0]}]},\n",
      "                                                                         {'Fare <= 13.25': [{'Fare <= 7.9104': [0,\n",
      "                                                                                                                {'Fare <= 7.987500000000001': [{'SibSp <= 1.5': [{'SibSp <= 0.5': [{'Age <= 26.0': [0,\n",
      "                                                                                                                                                                                                    1]},\n",
      "                                                                                                                                                                                   1]},\n",
      "                                                                                                                                                                 0]},\n",
      "                                                                                                                                               {'Age <= 19.5': [{'Fare <= 8.10415': [{'Age <= 18.5': [1,\n",
      "                                                                                                                                                                                                      0]},\n",
      "                                                                                                                                                                                     0]},\n",
      "                                                                                                                                                                0]}]}]},\n",
      "                                                                                            {'Fare <= 22.8875': [0,\n",
      "                                                                                                                 {'Fare <= 23.35': [1,\n",
      "                                                                                                                                    {'Age <= 33.0': [{'Age <= 31.5': [0,\n",
      "                                                                                                                                                                      1]},\n",
      "                                                                                                                                                     0]}]}]}]}]}]},\n",
      "                                      {'SibSp <= 2.5': [{'Age <= 13.5': [1,\n",
      "                                                                         {'Pclass = 2': [0,\n",
      "                                                                                         {'Age <= 53.0': [{'Fare <= 27.1354': [1,\n",
      "                                                                                                                               {'Fare <= 29.1': [0,\n",
      "                                                                                                                                                 {'Fare <= 30.5979': [{'Age <= 28.5': [1,\n",
      "                                                                                                                                                                                       0]},\n",
      "                                                                                                                                                                      0]}]}]},\n",
      "                                                                                                          {'Age <= 75.5': [{'Embarked = S': [0,\n",
      "                                                                                                                                             {'SibSp <= 0.5': [0,\n",
      "                                                                                                                                                               1]}]},\n",
      "                                                                                                                           1]}]}]}]},\n",
      "                                                        {'Age <= 3.5': [{'Age <= 2.5': [0,\n",
      "                                                                                        1]},\n",
      "                                                                        0]}]}]},\n",
      "                {'Pclass = 3': [{'Fare <= 23.35': [{'Age <= 36.5': [{'Embarked = S': [{'Age <= 32.0': [{'Fare <= 7.7625': [{'Age <= 25.5': [1,\n",
      "                                                                                                                                            0]},\n",
      "                                                                                                                           {'Fare <= 10.825': [{'Fare <= 10.1521': [{'Parch <= 0.5': [0,\n",
      "                                                                                                                                                                                      1]},\n",
      "                                                                                                                                                                    0]},\n",
      "                                                                                                                                               {'Fare <= 17.25': [1,\n",
      "                                                                                                                                                                  {'Fare <= 21.549999999999997': [0,\n",
      "                                                                                                                                                                                                  1]}]}]}]},\n",
      "                                                                                                       1]},\n",
      "                                                                                      {'Fare <= 15.62085': [{'Fare <= 13.93545': [{'Age <= 17.0': [1,\n",
      "                                                                                                                                                   {'Fare <= 8.00835': [1,\n",
      "                                                                                                                                                                        0]}]},\n",
      "                                                                                                                                  {'Embarked = Q': [{'Parch <= 0.5': [1,\n",
      "                                                                                                                                                                      0]},\n",
      "                                                                                                                                                    {'Age <= 28.5': [0,\n",
      "                                                                                                                                                                     1]}]}]},\n",
      "                                                                                                            1]}]},\n",
      "                                                                    {'Age <= 55.0': [0,\n",
      "                                                                                     1]}]},\n",
      "                                                   {'Parch <= 0.5': [1,\n",
      "                                                                     {'Fare <= 31.331249999999997': [0,\n",
      "                                                                                                     {'Fare <= 32.88125': [1,\n",
      "                                                                                                                           0]}]}]}]},\n",
      "                                {'Fare <= 28.85625': [{'Fare <= 28.23125': [{'Age <= 23.5': [1,\n",
      "                                                                                             {'Age <= 27.5': [{'Age <= 25.5': [{'Fare <= 13.75': [0,\n",
      "                                                                                                                                                  1]},\n",
      "                                                                                                                               {'Fare <= 17.42915': [1,\n",
      "                                                                                                                                                     0]}]},\n",
      "                                                                                                              {'Age <= 37.0': [1,\n",
      "                                                                                                                               {'Age <= 39.0': [0,\n",
      "                                                                                                                                                {'Age <= 56.0': [1,\n",
      "                                                                                                                                                                 {'Fare <= 18.525': [0,\n",
      "                                                                                                                                                                                     1]}]}]}]}]}]},\n",
      "                                                                            0]},\n",
      "                                                      {'Age <= 2.5': [0,\n",
      "                                                                      {'Parch <= 1.5': [1,\n",
      "                                                                                        {'Age <= 24.5': [1,\n",
      "                                                                                                         {'Age <= 28.0': [0,\n",
      "                                                                                                                          1]}]}]}]}]}]}]}\n"
     ]
    }
   ],
   "source": [
    "from pprint import pprint\n",
    "pprint(clf.train(data.iloc[:,:-1],data.iloc[:,-1]))"
   ]
  },
  {
   "cell_type": "code",
   "execution_count": 61,
   "metadata": {},
   "outputs": [],
   "source": [
    "pred = clf.predict(test.iloc[:,:-1])"
   ]
  },
  {
   "cell_type": "code",
   "execution_count": 62,
   "metadata": {},
   "outputs": [
    {
     "data": {
      "text/plain": [
       "0.8324022346368715"
      ]
     },
     "execution_count": 62,
     "metadata": {},
     "output_type": "execute_result"
    }
   ],
   "source": [
    "truth = test.values[:,-1]\n",
    "a = pred == truth\n",
    "a.sum()/a.size"
   ]
  },
  {
   "cell_type": "code",
   "execution_count": null,
   "metadata": {},
   "outputs": [],
   "source": []
  }
 ],
 "metadata": {
  "kernelspec": {
   "display_name": "Python 3",
   "language": "python",
   "name": "python3"
  },
  "language_info": {
   "codemirror_mode": {
    "name": "ipython",
    "version": 3
   },
   "file_extension": ".py",
   "mimetype": "text/x-python",
   "name": "python",
   "nbconvert_exporter": "python",
   "pygments_lexer": "ipython3",
   "version": "3.7.4"
  }
 },
 "nbformat": 4,
 "nbformat_minor": 2
}
