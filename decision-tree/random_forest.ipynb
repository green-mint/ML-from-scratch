{
 "cells": [
  {
   "cell_type": "code",
   "execution_count": 3,
   "metadata": {},
   "outputs": [],
   "source": [
    "import numpy as np\n",
    "import pandas as pd\n",
    "from scipy.stats import mode\n",
    "from DecisionTreeClassifier import DecisionTreeClassifier\n",
    "from DecisionTreeRegressor import DecisionTreeRegressor"
   ]
  },
  {
   "cell_type": "code",
   "execution_count": 4,
   "metadata": {},
   "outputs": [],
   "source": [
    "def bootstrap(data,m_datasets):\n",
    "    '''data: must be a dataframe\n",
    "       n_samples: number of samples in each dataframe(cant be used if frac is used)\n",
    "    '''\n",
    "    datasets = []\n",
    "    for index in range(m_datasets):\n",
    "        dataset = data.sample(axis=0,frac=1,replace=True) # sampling by replacement the whole dataset\n",
    "        datasets.append(dataset)\n",
    "    return datasets"
   ]
  },
  {
   "cell_type": "code",
   "execution_count": 5,
   "metadata": {},
   "outputs": [],
   "source": [
    "data = pd.read_csv('../datasets/titanic.csv')"
   ]
  },
  {
   "cell_type": "code",
   "execution_count": 6,
   "metadata": {},
   "outputs": [],
   "source": [
    "mode_embarked = data.Embarked.mode()[0]\n",
    "age_median = data.Age.median()\n",
    "data = data.fillna({'Age':age_median,'Embarked':mode_embarked})"
   ]
  },
  {
   "cell_type": "code",
   "execution_count": 7,
   "metadata": {},
   "outputs": [],
   "source": [
    "data['Label'] = data.Survived"
   ]
  },
  {
   "cell_type": "code",
   "execution_count": 8,
   "metadata": {},
   "outputs": [],
   "source": [
    "data = data.drop(['PassengerId','Survived','Name','Ticket','Cabin'],axis=1)"
   ]
  },
  {
   "cell_type": "code",
   "execution_count": 9,
   "metadata": {},
   "outputs": [
    {
     "name": "stdout",
     "output_type": "stream",
     "text": [
      "<class 'pandas.core.frame.DataFrame'>\n",
      "RangeIndex: 891 entries, 0 to 890\n",
      "Data columns (total 8 columns):\n",
      "Pclass      891 non-null int64\n",
      "Sex         891 non-null object\n",
      "Age         891 non-null float64\n",
      "SibSp       891 non-null int64\n",
      "Parch       891 non-null int64\n",
      "Fare        891 non-null float64\n",
      "Embarked    891 non-null object\n",
      "Label       891 non-null int64\n",
      "dtypes: float64(2), int64(4), object(2)\n",
      "memory usage: 55.8+ KB\n"
     ]
    }
   ],
   "source": [
    "data.info()"
   ]
  },
  {
   "cell_type": "code",
   "execution_count": 10,
   "metadata": {},
   "outputs": [],
   "source": [
    "class RandomForestClassifier():\n",
    "    def __init__(self,n_estimators=50,max_depth=None,min_samples=3):\n",
    "        self.n_estimators = n_estimators\n",
    "        self.max_depth = max_depth\n",
    "        self.min_samples = min_samples\n",
    "    \n",
    "    def train(self,X,y):\n",
    "        data = pd.concat([X,y],axis=1)\n",
    "        datasets = bootstrap(data,self.n_estimators)\n",
    "        self.DecisionTreeClassifier = DecisionTreeClassifier(max_depth=self.max_depth,min_samples=self.min_samples,choose_k_lessthan_d=True)\n",
    "        self.forest = []\n",
    "        for index in range(self.n_estimators):\n",
    "            dataset = datasets[index]\n",
    "            tree = self.DecisionTreeClassifier.train(dataset.iloc[:,:-1],dataset.iloc[:,-1])\n",
    "            self.forest.append(tree)\n",
    "        \n",
    "        assert self.n_estimators == len(self.forest)\n",
    "        return self.forest\n",
    "    \n",
    "    def predict(self,X):\n",
    "        #forest_multi_example predict\n",
    "        predictions = []\n",
    "        for index in range(len(X)):\n",
    "            prediction = forest_one_example_predict(X.iloc[index,:],self.forest)\n",
    "            predictions.append(prediction)\n",
    "        return np.array(predictions)"
   ]
  },
  {
   "cell_type": "code",
   "execution_count": 11,
   "metadata": {},
   "outputs": [],
   "source": [
    "def tree_one_example_predict(example,tree):\n",
    "    question = list(tree.keys())[0]\n",
    "    col_name,operator,value = question.split()\n",
    "    if operator == '<=':\n",
    "        if str(example[col_name]) <= value:\n",
    "            answer = tree[question][0]\n",
    "        else:\n",
    "            answer = tree[question][1]\n",
    "    else:\n",
    "         if str(example[col_name]) == value:\n",
    "            answer = tree[question][0]\n",
    "         else:\n",
    "            answer = tree[question][1]\n",
    "    if not isinstance(answer, dict):\n",
    "        return answer\n",
    "    else:\n",
    "        residual_tree = answer\n",
    "        return tree_one_example_predict(example,residual_tree)"
   ]
  },
  {
   "cell_type": "code",
   "execution_count": 12,
   "metadata": {},
   "outputs": [],
   "source": [
    "def forest_one_example_predict(example,forest):\n",
    "    predictions = []\n",
    "    for index in range(len(forest)):\n",
    "        prediction = tree_one_example_predict(example,forest[index])\n",
    "        predictions.append(prediction)\n",
    "    mode_info = mode(predictions)\n",
    "    mode_prediction = int(mode_info[0])\n",
    "    #mode_prediction = np.mean(predictions)\n",
    "    return mode_prediction"
   ]
  },
  {
   "cell_type": "code",
   "execution_count": 13,
   "metadata": {},
   "outputs": [],
   "source": [
    "clf = RandomForestClassifier(n_estimators=100,min_samples=1)"
   ]
  },
  {
   "cell_type": "code",
   "execution_count": 15,
   "metadata": {
    "scrolled": true
   },
   "outputs": [],
   "source": [
    "forest = clf.train(pd.get_dummies(train.iloc[:,:-1],drop_first=True),train.iloc[:,-1])"
   ]
  },
  {
   "cell_type": "code",
   "execution_count": 16,
   "metadata": {
    "scrolled": true
   },
   "outputs": [],
   "source": [
    "pred = clf.predict(pd.get_dummies(test.iloc[:,:-1],drop_first=True))"
   ]
  },
  {
   "cell_type": "code",
   "execution_count": 17,
   "metadata": {},
   "outputs": [
    {
     "data": {
      "text/plain": [
       "0.6536312849162011"
      ]
     },
     "execution_count": 17,
     "metadata": {},
     "output_type": "execute_result"
    }
   ],
   "source": [
    "truth = test.values[:,-1]\n",
    "a = pred == truth\n",
    "a.sum()/a.size"
   ]
  },
  {
   "cell_type": "code",
   "execution_count": 20,
   "metadata": {
    "scrolled": true
   },
   "outputs": [
    {
     "data": {
      "text/plain": [
       "array([0.56, 0.34, 0.34, 0.88, 0.38, 0.48, 0.26, 0.58, 0.38, 0.7 , 0.24,\n",
       "       0.04, 0.22, 0.78, 0.32, 0.02, 0.46, 0.34, 0.14, 0.36, 0.66, 0.56,\n",
       "       0.6 , 0.24, 0.74, 0.22, 0.92, 0.74, 0.36, 0.32, 0.84, 0.62, 0.82,\n",
       "       0.22, 0.72, 0.4 , 0.22, 0.5 , 0.92, 0.4 , 1.  , 0.54, 0.2 , 0.36,\n",
       "       0.46, 0.62, 0.2 , 0.72, 0.38, 0.36, 0.24, 0.26, 0.28, 0.38, 0.96,\n",
       "       1.  , 0.46, 0.3 , 0.76, 0.52, 0.06, 0.46, 0.52, 0.46, 0.28, 0.44,\n",
       "       0.44, 0.58, 0.54, 0.84, 0.44, 0.58, 0.32, 0.2 , 0.62, 0.3 , 0.54,\n",
       "       0.02, 0.48, 0.12, 0.22, 0.36, 0.92, 0.5 , 0.74, 0.4 , 0.28, 0.7 ,\n",
       "       0.32, 0.32, 0.36, 1.  , 0.96, 0.08, 0.62, 0.22, 0.18, 0.46, 0.22,\n",
       "       0.42, 0.44, 0.48, 0.36, 0.38, 0.34, 0.46, 0.  , 0.36, 0.2 , 0.32,\n",
       "       0.36, 0.66, 0.36, 0.58, 0.38, 0.22, 0.24, 0.4 , 0.74, 0.22, 0.4 ,\n",
       "       0.32, 0.9 , 0.92, 0.4 , 0.52, 0.14, 1.  , 0.36, 0.84, 0.3 , 0.66,\n",
       "       0.66, 0.44, 0.54, 0.24, 0.36, 0.46, 0.34, 0.38, 0.66, 1.  , 0.46,\n",
       "       0.58, 1.  , 0.64, 0.38, 0.24, 1.  , 0.22, 0.84, 0.26, 1.  , 0.16,\n",
       "       0.46, 0.32, 0.22, 0.4 , 0.24, 0.32, 0.32, 0.22, 0.3 , 0.38, 0.88,\n",
       "       0.8 , 0.82, 0.6 , 0.38, 0.38, 0.5 , 0.42, 0.84, 0.3 , 0.3 , 0.22,\n",
       "       0.32, 0.48, 0.32])"
      ]
     },
     "execution_count": 20,
     "metadata": {},
     "output_type": "execute_result"
    }
   ],
   "source": [
    "pred"
   ]
  },
  {
   "cell_type": "code",
   "execution_count": 31,
   "metadata": {},
   "outputs": [
    {
     "name": "stderr",
     "output_type": "stream",
     "text": [
      "C:\\Users\\Dell\\Anaconda3\\lib\\site-packages\\ipykernel_launcher.py:1: SettingWithCopyWarning: \n",
      "A value is trying to be set on a copy of a slice from a DataFrame.\n",
      "Try using .loc[row_indexer,col_indexer] = value instead\n",
      "\n",
      "See the caveats in the documentation: http://pandas.pydata.org/pandas-docs/stable/user_guide/indexing.html#returning-a-view-versus-a-copy\n",
      "  \"\"\"Entry point for launching an IPython kernel.\n"
     ]
    }
   ],
   "source": [
    "test['Pred'] = np.round(pred)"
   ]
  },
  {
   "cell_type": "code",
   "execution_count": 25,
   "metadata": {},
   "outputs": [
    {
     "name": "stderr",
     "output_type": "stream",
     "text": [
      "C:\\Users\\Dell\\Anaconda3\\lib\\site-packages\\ipykernel_launcher.py:1: SettingWithCopyWarning: \n",
      "A value is trying to be set on a copy of a slice from a DataFrame\n",
      "\n",
      "See the caveats in the documentation: http://pandas.pydata.org/pandas-docs/stable/user_guide/indexing.html#returning-a-view-versus-a-copy\n",
      "  \"\"\"Entry point for launching an IPython kernel.\n"
     ]
    }
   ],
   "source": []
  },
  {
   "cell_type": "code",
   "execution_count": 23,
   "metadata": {},
   "outputs": [],
   "source": [
    "a = np.array([0.98,0.67,0.45,0.23])"
   ]
  },
  {
   "cell_type": "code",
   "execution_count": 24,
   "metadata": {},
   "outputs": [
    {
     "data": {
      "text/plain": [
       "array([1., 1., 0., 0.])"
      ]
     },
     "execution_count": 24,
     "metadata": {},
     "output_type": "execute_result"
    }
   ],
   "source": [
    "np.round(a)"
   ]
  },
  {
   "cell_type": "code",
   "execution_count": 27,
   "metadata": {},
   "outputs": [
    {
     "data": {
      "text/plain": [
       "(181,)"
      ]
     },
     "execution_count": 27,
     "metadata": {},
     "output_type": "execute_result"
    }
   ],
   "source": [
    "P.shape"
   ]
  },
  {
   "cell_type": "code",
   "execution_count": 37,
   "metadata": {},
   "outputs": [
    {
     "data": {
      "text/plain": [
       "array([0.56, 0.34, 0.58, 0.24, 0.34, 0.66, 0.6 , 0.62, 0.82, 0.22, 0.72,\n",
       "       0.54, 0.2 , 0.2 , 0.72, 0.38, 0.36, 0.24, 0.38, 0.96, 0.46, 0.76,\n",
       "       0.52, 0.52, 0.44, 0.44, 0.58, 0.54, 0.58, 0.62, 0.54, 0.22, 0.74,\n",
       "       0.08, 0.62, 0.46, 0.22, 0.  , 0.2 , 0.66, 0.58, 0.22, 0.4 , 0.22,\n",
       "       0.32, 0.9 , 0.52, 0.46, 0.58, 0.64, 0.38, 0.16, 0.4 , 0.6 , 0.3 ])"
      ]
     },
     "execution_count": 37,
     "metadata": {},
     "output_type": "execute_result"
    }
   ],
   "source": [
    "test[test.Pred != test.Label].Probab.values"
   ]
  },
  {
   "cell_type": "code",
   "execution_count": 39,
   "metadata": {},
   "outputs": [
    {
     "data": {
      "text/plain": [
       "array([540, 147, 425, 154])"
      ]
     },
     "execution_count": 39,
     "metadata": {},
     "output_type": "execute_result"
    }
   ],
   "source": [
    "np.random.randint(low=0, high=len(train), size=4)"
   ]
  },
  {
   "cell_type": "code",
   "execution_count": 14,
   "metadata": {},
   "outputs": [],
   "source": [
    "from sklearn.model_selection import train_test_split\n",
    "train,test = train_test_split(data,test_size=0.2)"
   ]
  },
  {
   "cell_type": "code",
   "execution_count": 40,
   "metadata": {},
   "outputs": [],
   "source": [
    "from sklearn.ensemble import RandomForestClassifier"
   ]
  },
  {
   "cell_type": "code",
   "execution_count": 41,
   "metadata": {},
   "outputs": [],
   "source": [
    "clf0 = RandomForestClassifier(n_estimators=100)"
   ]
  },
  {
   "cell_type": "code",
   "execution_count": 42,
   "metadata": {},
   "outputs": [
    {
     "data": {
      "text/plain": [
       "RandomForestClassifier(bootstrap=True, class_weight=None, criterion='gini',\n",
       "                       max_depth=None, max_features='auto', max_leaf_nodes=None,\n",
       "                       min_impurity_decrease=0.0, min_impurity_split=None,\n",
       "                       min_samples_leaf=1, min_samples_split=2,\n",
       "                       min_weight_fraction_leaf=0.0, n_estimators=100,\n",
       "                       n_jobs=None, oob_score=False, random_state=None,\n",
       "                       verbose=0, warm_start=False)"
      ]
     },
     "execution_count": 42,
     "metadata": {},
     "output_type": "execute_result"
    }
   ],
   "source": [
    "clf0.fit(pd.get_dummies(train.iloc[:,:-1],drop_first=True),train.iloc[:,-1])"
   ]
  },
  {
   "cell_type": "code",
   "execution_count": 43,
   "metadata": {},
   "outputs": [],
   "source": [
    "pred = clf0.predict(pd.get_dummies(test.iloc[:,:-1],drop_first=True))"
   ]
  },
  {
   "cell_type": "code",
   "execution_count": 44,
   "metadata": {},
   "outputs": [
    {
     "data": {
      "text/plain": [
       "0.8435754189944135"
      ]
     },
     "execution_count": 44,
     "metadata": {},
     "output_type": "execute_result"
    }
   ],
   "source": [
    "truth = test.values[:,-1]\n",
    "a = pred == truth\n",
    "a.sum()/a.size"
   ]
  },
  {
   "cell_type": "code",
   "execution_count": 45,
   "metadata": {},
   "outputs": [
    {
     "data": {
      "text/plain": [
       "array([2, 1, 7, 4])"
      ]
     },
     "execution_count": 45,
     "metadata": {},
     "output_type": "execute_result"
    }
   ],
   "source": [
    "a = np.array([1,2,3,4,5,6,7,8])\n",
    "np.random.choice(a,size=4,replace=False)"
   ]
  },
  {
   "cell_type": "code",
   "execution_count": 93,
   "metadata": {},
   "outputs": [
    {
     "data": {
      "text/plain": [
       "2.8284271247461903"
      ]
     },
     "execution_count": 93,
     "metadata": {},
     "output_type": "execute_result"
    }
   ],
   "source": [
    "8 ** (1/2)"
   ]
  },
  {
   "cell_type": "code",
   "execution_count": 27,
   "metadata": {},
   "outputs": [
    {
     "data": {
      "text/plain": [
       "True"
      ]
     },
     "execution_count": 27,
     "metadata": {},
     "output_type": "execute_result"
    }
   ],
   "source": [
    "isinstance(np.round(8 ** (1/2)),float)"
   ]
  },
  {
   "cell_type": "code",
   "execution_count": null,
   "metadata": {},
   "outputs": [],
   "source": []
  }
 ],
 "metadata": {
  "kernelspec": {
   "display_name": "Python 3",
   "language": "python",
   "name": "python3"
  },
  "language_info": {
   "codemirror_mode": {
    "name": "ipython",
    "version": 3
   },
   "file_extension": ".py",
   "mimetype": "text/x-python",
   "name": "python",
   "nbconvert_exporter": "python",
   "pygments_lexer": "ipython3",
   "version": "3.7.4"
  }
 },
 "nbformat": 4,
 "nbformat_minor": 4
}
